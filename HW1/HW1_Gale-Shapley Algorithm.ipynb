{
 "cells": [
  {
   "cell_type": "markdown",
   "id": "2a9bb293",
   "metadata": {},
   "source": [
    "# woman-favored strategy"
   ]
  },
  {
   "cell_type": "code",
   "execution_count": 1,
   "id": "c6741e22",
   "metadata": {
    "scrolled": true
   },
   "outputs": [],
   "source": [
    "import pandas as pd\n",
    "\n",
    "man_df = pd.read_csv(r\"D:\\NYCU\\1101\\Advanced Computer Algorithms\\HW1\\20_man.csv\")\n",
    "woman_df = pd.read_csv(r\"D:\\NYCU\\1101\\Advanced Computer Algorithms\\HW1\\20_woman.csv\")\n",
    "man_matched = ['-1']*20\n",
    "woman_matched = ['-1']*20\n",
    "\n",
    "def not_marriage_yet(men):\n",
    "    for i in range(len(men)):\n",
    "        if (men[i]=='-1'):\n",
    "            return i\n",
    "    return -1\n",
    "\n",
    "\n",
    "def match_woman_by_rank(man_prefer_rank=1):\n",
    "    woman_man_prefer = man_prefer_list[man_prefer_rank]-1\n",
    "\n",
    "    if(woman_matched[woman_man_prefer]=='-1'):\n",
    "        woman_matched[woman_man_prefer] = man_not_marriage\n",
    "        man_matched[man_not_marriage] = woman_man_prefer\n",
    "\n",
    "    elif(woman_matched[woman_man_prefer]!='-1'):\n",
    "        woman_prefer_list = woman_df.loc[woman_man_prefer].values.tolist()\n",
    "\n",
    "        if(woman_prefer_list.index(man_not_marriage+1) < woman_prefer_list.index(woman_matched[woman_man_prefer]+1)):\n",
    "            man_matched[woman_matched[woman_man_prefer]] = '-1'\n",
    "            woman_matched[woman_man_prefer] = man_not_marriage\n",
    "            man_matched[man_not_marriage] = woman_man_prefer\n",
    "        else:\n",
    "            man_prefer_rank += 1\n",
    "            match_woman_by_rank(man_prefer_rank)\n",
    "\n",
    "            \n",
    "while(not_marriage_yet(man_matched)+1):\n",
    "    \n",
    "    man_not_marriage = not_marriage_yet(man_matched)\n",
    "    man_prefer_list = man_df.loc[man_not_marriage]\n",
    "    match_woman_by_rank()"
   ]
  },
  {
   "cell_type": "code",
   "execution_count": 2,
   "id": "357c152e",
   "metadata": {
    "scrolled": true
   },
   "outputs": [
    {
     "data": {
      "text/plain": [
       "['M1 and W20',\n",
       " 'M2 and W1',\n",
       " 'M3 and W19',\n",
       " 'M4 and W6',\n",
       " 'M5 and W3',\n",
       " 'M6 and W13',\n",
       " 'M7 and W4',\n",
       " 'M8 and W9',\n",
       " 'M9 and W15',\n",
       " 'M10 and W14',\n",
       " 'M11 and W18',\n",
       " 'M12 and W10',\n",
       " 'M13 and W2',\n",
       " 'M14 and W16',\n",
       " 'M15 and W7',\n",
       " 'M16 and W12',\n",
       " 'M17 and W17',\n",
       " 'M18 and W11',\n",
       " 'M19 and W8',\n",
       " 'M20 and W5']"
      ]
     },
     "execution_count": 2,
     "metadata": {},
     "output_type": "execute_result"
    }
   ],
   "source": [
    "for i in range(len(man_matched)):\n",
    "    man_matched[i] = 'M' + str(i+1) +' and W' + str(man_matched[i]+1)\n",
    "man_matched"
   ]
  },
  {
   "cell_type": "markdown",
   "id": "4b611253",
   "metadata": {},
   "source": [
    "# man-favored strategy"
   ]
  },
  {
   "cell_type": "code",
   "execution_count": 3,
   "id": "00c67042",
   "metadata": {},
   "outputs": [],
   "source": [
    "import pandas as pd\n",
    "\n",
    "man_df = pd.read_csv(r\"D:\\NYCU\\1101\\Advanced Computer Algorithms\\HW1\\20_man.csv\")\n",
    "woman_df = pd.read_csv(r\"D:\\NYCU\\1101\\Advanced Computer Algorithms\\HW1\\20_woman.csv\")\n",
    "man_matched = ['-1']*20\n",
    "woman_matched = ['-1']*20\n",
    "\n",
    "def not_marriage_yet(women):\n",
    "    for i in range(len(women)):\n",
    "        if (women[i]=='-1'):\n",
    "            return i\n",
    "    return -1\n",
    "\n",
    "\n",
    "def match_man_by_rank(woman_prefer_rank=1):\n",
    "    man_woman_prefer = woman_prefer_list[woman_prefer_rank]-1\n",
    "\n",
    "    if(man_matched[man_woman_prefer]=='-1'):\n",
    "        man_matched[man_woman_prefer] = woman_not_marriage\n",
    "        woman_matched[woman_not_marriage] = man_woman_prefer\n",
    "\n",
    "    elif(man_matched[man_woman_prefer]!='-1'):\n",
    "        man_prefer_list = man_df.loc[man_woman_prefer].values.tolist()\n",
    "\n",
    "        if(man_prefer_list.index(woman_not_marriage+1) < man_prefer_list.index(man_matched[man_woman_prefer]+1)):\n",
    "            woman_matched[man_matched[man_woman_prefer]] = '-1'\n",
    "            man_matched[man_woman_prefer] = woman_not_marriage\n",
    "            woman_matched[woman_not_marriage] = man_woman_prefer\n",
    "        else:\n",
    "            woman_prefer_rank += 1\n",
    "            match_man_by_rank(woman_prefer_rank)\n",
    "\n",
    "            \n",
    "while(not_marriage_yet(woman_matched)+1):\n",
    "    \n",
    "    woman_not_marriage = not_marriage_yet(woman_matched)\n",
    "    woman_prefer_list = woman_df.loc[woman_not_marriage]\n",
    "    match_man_by_rank()"
   ]
  },
  {
   "cell_type": "code",
   "execution_count": 4,
   "id": "2dceaaa9",
   "metadata": {},
   "outputs": [
    {
     "data": {
      "text/plain": [
       "['W1 and M18',\n",
       " 'W2 and M13',\n",
       " 'W3 and M5',\n",
       " 'W4 and M10',\n",
       " 'W5 and M4',\n",
       " 'W6 and M3',\n",
       " 'W7 and M19',\n",
       " 'W8 and M20',\n",
       " 'W9 and M8',\n",
       " 'W10 and M12',\n",
       " 'W11 and M17',\n",
       " 'W12 and M16',\n",
       " 'W13 and M6',\n",
       " 'W14 and M7',\n",
       " 'W15 and M11',\n",
       " 'W16 and M2',\n",
       " 'W17 and M1',\n",
       " 'W18 and M14',\n",
       " 'W19 and M15',\n",
       " 'W20 and M9']"
      ]
     },
     "execution_count": 4,
     "metadata": {},
     "output_type": "execute_result"
    }
   ],
   "source": [
    "for i in range(len(woman_matched)):\n",
    "    woman_matched[i] = 'W' + str(i+1) +' and M' + str(woman_matched[i]+1)\n",
    "woman_matched"
   ]
  },
  {
   "cell_type": "code",
   "execution_count": null,
   "id": "d8447c80",
   "metadata": {},
   "outputs": [],
   "source": []
  }
 ],
 "metadata": {
  "kernelspec": {
   "display_name": "Python 3",
   "language": "python",
   "name": "python3"
  },
  "language_info": {
   "codemirror_mode": {
    "name": "ipython",
    "version": 3
   },
   "file_extension": ".py",
   "mimetype": "text/x-python",
   "name": "python",
   "nbconvert_exporter": "python",
   "pygments_lexer": "ipython3",
   "version": "3.7.9"
  }
 },
 "nbformat": 4,
 "nbformat_minor": 5
}
